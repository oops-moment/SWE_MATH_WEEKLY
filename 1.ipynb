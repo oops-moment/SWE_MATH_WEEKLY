{
 "cells": [
  {
   "cell_type": "code",
   "execution_count": 4,
   "metadata": {},
   "outputs": [],
   "source": [
    "import numpy as np \n",
    "from typing import List"
   ]
  },
  {
   "cell_type": "code",
   "execution_count": 9,
   "metadata": {},
   "outputs": [],
   "source": [
    "def can_unlock_library(keys: List[List[float]], tolerance: float = 1e-10) -> bool:\n",
    "    \"\"\"\n",
    "    Args:\n",
    "        keys: List of n vectors, each being a list of n floating-point numbers\n",
    "        precision: Threshold for numerical calculations (default: 1e-10)\n",
    "\n",
    "    Returns:\n",
    "        bool: True if keys can unlock the library, False otherwise\n",
    "    \"\"\"\n",
    "    # Convert to numpy array for better numerical operations\n",
    "    vectors = np.array(keys, dtype=float)\n",
    "    n_vectors, dimension = vectors.shape\n",
    "    print(\"number of vectors =\", n_vectors)\n",
    "    print(\"number of dimensions =\", dimension)\n",
    "    \n",
    "    # Check 1: Number of vectors should match the dimension for a basis\n",
    "    if n_vectors != dimension:\n",
    "        return False\n",
    "    print(\"number of vectors = number of dimensions\")\n",
    "    \n",
    "    # Check 2: Linear Independence using QR decomposition\n",
    "    Q, R = np.linalg.qr(vectors.T)\n",
    "\n",
    "    print(\"QR Decomposition done\")\n",
    "    print(\"Q: Orthogonal Matrix is\\n\", Q)\n",
    "    print(\"R: Upper Triangular Matrix\\n\", R)\n",
    "    \n",
    "    diagonal = np.abs(np.diag(R))\n",
    "    \n",
    "    # If any diagonal element is close to zero, vectors are linearly dependent\n",
    "    is_independent = np.all(diagonal > tolerance)\n",
    "    print(\"are vectors independent?\", is_independent)\n",
    "    \n",
    "    return is_independent"
   ]
  },
  {
   "cell_type": "code",
   "execution_count": 12,
   "metadata": {},
   "outputs": [],
   "source": [
    "def are_vectors_independent(vectors, tol=1e-10):\n",
    "    \"\"\"\n",
    "    Checks if a set of vectors are linearly independent within a given tolerance.\n",
    "\n",
    "    Parameters:\n",
    "        vectors (list or np.ndarray): A list or array of vectors.\n",
    "        tol (float): Tolerance for linear dependence.\n",
    "\n",
    "    Returns:\n",
    "        bool: True if the vectors are linearly independent, False otherwise.\n",
    "    \"\"\"\n",
    "    matrix = np.array(vectors)\n",
    "    rank = np.linalg.matrix_rank(matrix, tol=tol)\n",
    "    return rank == len(vectors)\n"
   ]
  },
  {
   "cell_type": "code",
   "execution_count": 14,
   "metadata": {},
   "outputs": [
    {
     "data": {
      "text/plain": [
       "np.True_"
      ]
     },
     "execution_count": 14,
     "metadata": {},
     "output_type": "execute_result"
    }
   ],
   "source": [
    "are_vectors_independent([[1,0,0], [0,1,0], [0,0,1]])"
   ]
  },
  {
   "cell_type": "code",
   "execution_count": 16,
   "metadata": {},
   "outputs": [
    {
     "data": {
      "text/plain": [
       "np.False_"
      ]
     },
     "execution_count": 16,
     "metadata": {},
     "output_type": "execute_result"
    }
   ],
   "source": [
    "are_vectors_independent([[2,0,0], [0,1,0], [0,0,0]])"
   ]
  },
  {
   "cell_type": "code",
   "execution_count": 10,
   "metadata": {},
   "outputs": [
    {
     "name": "stdout",
     "output_type": "stream",
     "text": [
      "number of vectors = 3\n",
      "number of dimensions = 3\n",
      "number of vectors = number of dimensions\n",
      "QR Decomposition done\n",
      "Q: Orthogonal Matrix is\n",
      " [[1. 0. 0.]\n",
      " [0. 1. 0.]\n",
      " [0. 0. 1.]]\n",
      "R: Upper Triangular Matrix\n",
      " [[1. 0. 0.]\n",
      " [0. 1. 0.]\n",
      " [0. 0. 1.]]\n",
      "are vectors independent? True\n"
     ]
    },
    {
     "data": {
      "text/plain": [
       "np.True_"
      ]
     },
     "execution_count": 10,
     "metadata": {},
     "output_type": "execute_result"
    }
   ],
   "source": [
    "can_unlock_library([\n",
    "    [1, 0, 0],\n",
    "    [0, 1, 0],\n",
    "    [0, 0, 1]\n",
    "])"
   ]
  },
  {
   "cell_type": "code",
   "execution_count": 8,
   "metadata": {},
   "outputs": [
    {
     "name": "stdout",
     "output_type": "stream",
     "text": [
      "number of vectors = 3\n",
      "number of dimensions = 3\n",
      "number of vectors = number of dimensions\n",
      "QR Decomposition done\n",
      "Q: Orthogonal Matrix is [[1. 0. 0.]\n",
      " [0. 1. 0.]\n",
      " [0. 0. 1.]]\n",
      "R: Upper Triangular Matrix [[2. 0. 4.]\n",
      " [0. 2. 4.]\n",
      " [0. 0. 0.]]\n",
      "are vectors independent? False\n"
     ]
    },
    {
     "data": {
      "text/plain": [
       "np.False_"
      ]
     },
     "execution_count": 8,
     "metadata": {},
     "output_type": "execute_result"
    }
   ],
   "source": [
    "can_unlock_library([\n",
    "    [2, 0, 0],\n",
    "    [0, 2, 0],\n",
    "    [4, 4, 0]\n",
    "])"
   ]
  }
 ],
 "metadata": {
  "kernelspec": {
   "display_name": "Python 3",
   "language": "python",
   "name": "python3"
  },
  "language_info": {
   "codemirror_mode": {
    "name": "ipython",
    "version": 3
   },
   "file_extension": ".py",
   "mimetype": "text/x-python",
   "name": "python",
   "nbconvert_exporter": "python",
   "pygments_lexer": "ipython3",
   "version": "3.12.6"
  }
 },
 "nbformat": 4,
 "nbformat_minor": 2
}
