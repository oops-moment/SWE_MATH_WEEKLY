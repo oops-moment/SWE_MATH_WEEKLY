{
 "cells": [
  {
   "cell_type": "code",
   "execution_count": 3,
   "metadata": {},
   "outputs": [],
   "source": [
    "import csv\n",
    "import numpy as np\n"
   ]
  },
  {
   "cell_type": "code",
   "execution_count": 4,
   "metadata": {},
   "outputs": [],
   "source": [
    "# Function to read data from a CSV file\n",
    "def read_data(filename):\n",
    "    \"\"\"\n",
    "    Reads data from a CSV file and converts it to a NumPy array.\n",
    "    \"\"\"\n",
    "    data = []\n",
    "    with open(filename, 'r') as file:\n",
    "        csv_reader = csv.reader(file)\n",
    "        for row in csv_reader:\n",
    "            float_row = [float(value) for value in row]\n",
    "            data.append(float_row)\n",
    "    print(f\"Loaded data from {filename}, first 5 rows:\")\n",
    "    print(data[:5])  # Print first 5 rows to understand the data\n",
    "    return np.array(data)"
   ]
  },
  {
   "cell_type": "code",
   "execution_count": 5,
   "metadata": {},
   "outputs": [
    {
     "name": "stdout",
     "output_type": "stream",
     "text": [
      "Loaded data from data.csv, first 5 rows:\n",
      "[[0.7496479976957946, 0.12819048391570637, 0.5076381014014266, 0.05633511666653959], [0.44826179933101046, 0.4750940081369834, 0.48067829922330835, 0.4689345410349135], [0.2835202505681379, 0.19877751823737527, 0.2654026327645302, 0.21699513681930743], [0.44636990929998566, 0.45871148112970805, 0.28401326607572297, 0.545493074928983], [0.3194047937631325, 0.4225527456813415, 0.25951749505245775, 0.4024668981803643]]\n"
     ]
    }
   ],
   "source": [
    "data = read_data(\"data.csv\")\n"
   ]
  },
  {
   "cell_type": "code",
   "execution_count": 6,
   "metadata": {},
   "outputs": [
    {
     "name": "stdout",
     "output_type": "stream",
     "text": [
      "Previous video metrics (first 5 rows): [[0.749648   0.12819048]\n",
      " [0.4482618  0.47509401]\n",
      " [0.28352025 0.19877752]\n",
      " [0.44636991 0.45871148]\n",
      " [0.31940479 0.42255275]]\n",
      "Next video metrics (first 5 rows): [[0.5076381  0.05633512]\n",
      " [0.4806783  0.46893454]\n",
      " [0.26540263 0.21699514]\n",
      " [0.28401327 0.54549307]\n",
      " [0.2595175  0.4024669 ]]\n"
     ]
    }
   ],
   "source": [
    "# Separate data into previous and next video metrics\n",
    "previous_videos = data[:, 0:2]  # Columns 0 and 1\n",
    "next_videos = data[:, 2:4]      # Columns 2 and 3\n",
    "print(\"Previous video metrics (first 5 rows):\", previous_videos[:5])\n",
    "print(\"Next video metrics (first 5 rows):\", next_videos[:5])"
   ]
  },
  {
   "cell_type": "markdown",
   "metadata": {},
   "source": [
    "Steps to Calculate the Transformation Matrix\n",
    "\t1.\tInput Data:\n",
    "\t•\t X  (previous video metrics): A matrix where each row represents the metrics of one video.\n",
    "\t•\t Y  (next video metrics): A matrix where each row represents the metrics of the next video.\n",
    "\t2.\tRegression Objective:\n",
    "We solve for  T  such that:\n",
    "\n",
    "Y = X \\cdot T\n",
    "\n",
    "\t3.\tMatrix Operations:\n",
    "\t•\tCompute  X^T \\cdot X : This is the matrix multiplication of the transpose of  X  with  X .\n",
    "\t•\tCompute  X^T \\cdot Y : This is the matrix multiplication of the transpose of  X  with  Y .\n",
    "\t•\tSolve for  T :\n",
    "\n",
    "T = (X^T \\cdot X)^{-1} \\cdot (X^T \\cdot Y)\n",
    "\n",
    "Here,  (X^T \\cdot X)^{-1}  is the inverse of  X^T \\cdot X ."
   ]
  },
  {
   "cell_type": "code",
   "execution_count": 7,
   "metadata": {},
   "outputs": [],
   "source": [
    "# Function to create the transformation matrix\n",
    "def create_transformation_matrix(p_videos, n_videos):\n",
    "    \"\"\"\n",
    "    Calculates the transformation matrix using least squares regression.\n",
    "    \"\"\"\n",
    "    X, Y = p_videos, n_videos  # X: current metrics, Y: next metrics\n",
    "    XtX = X.T @ X  # Transpose of X multiplied by X\n",
    "    XtY = X.T @ Y  # Transpose of X multiplied by Y\n",
    "    tm = np.linalg.inv(XtX) @ XtY  # Solve for the transformation matrix\n",
    "    print(\"Transformation matrix:\\n\", tm)\n",
    "    return tm\n"
   ]
  },
  {
   "cell_type": "code",
   "execution_count": 8,
   "metadata": {},
   "outputs": [
    {
     "name": "stdout",
     "output_type": "stream",
     "text": [
      "Transformation matrix:\n",
      " [[0.70500624 0.19902547]\n",
      " [0.09087316 0.89926622]]\n"
     ]
    }
   ],
   "source": [
    "# Create the transformation matrix\n",
    "tm = create_transformation_matrix(previous_videos, next_videos)"
   ]
  },
  {
   "cell_type": "code",
   "execution_count": 9,
   "metadata": {},
   "outputs": [
    {
     "name": "stdout",
     "output_type": "stream",
     "text": [
      "Transformation matrix:\n",
      " [[0.70500624 0.19902547]\n",
      " [0.09087316 0.89926622]]\n",
      "Loaded data from creators.csv, first 5 rows:\n",
      "[[0.8103015902145745, 0.03150057642800011], [0.8607483731258487, 0.14886163966006555], [1.020411790521508, 0.2727977611029603], [0.7283802954156753, 0.10593426891185549], [0.7593392079309808, 0.14846287627400037]]\n",
      "Creators' current metrics (first 5 rows): [[0.81030159 0.03150058]\n",
      " [0.86074837 0.14886164]\n",
      " [1.02041179 0.27279776]\n",
      " [0.7283803  0.10593427]\n",
      " [0.75933921 0.14846288]]\n",
      "Predicted metrics after 4 weeks:\n",
      " [[0.26622667 0.18151529]\n",
      " [0.33224444 0.27706815]\n",
      " [0.43514358 0.39878714]\n",
      " [0.27256698 0.21983252]\n",
      " [0.30044443 0.25693862]]\n",
      "Creator with highest technical depth: 6\n",
      "Creator with highest entertainment value: 26\n",
      "Creators who switched focus:\n",
      "Creator 5: Old: [0.7395112  0.37027072], New: [0.38929419 0.41499934]\n",
      "Creator 6: Old: [0.92225941 0.47581368], New: [0.49151281 0.52780568]\n",
      "Creator 8: Old: [0.63578949 0.2707897 ], New: [0.3143209  0.32207848]\n",
      "Creator 14: Old: [0.65759568 0.33829511], New: [0.35004501 0.37562937]\n"
     ]
    }
   ],
   "source": [
    "\n",
    "# Create the transformation matrix\n",
    "tm = create_transformation_matrix(previous_videos, next_videos)\n",
    "\n",
    "# Function to predict metrics after k weeks\n",
    "def predict(A, x0, k):\n",
    "    \"\"\"\n",
    "    Predicts future metrics using the transformation matrix and eigen decomposition.\n",
    "    \"\"\"\n",
    "    eigenvalues, eigenvectors = np.linalg.eig(A)  # Eigen decomposition\n",
    "    future_state = (\n",
    "        eigenvectors @ np.diag(eigenvalues**k) @ np.linalg.inv(eigenvectors) @ x0\n",
    "    )\n",
    "    return future_state\n",
    "\n",
    "# Load the creators' current metrics\n",
    "creators = read_data(\"creators.csv\")\n",
    "print(\"Creators' current metrics (first 5 rows):\", creators[:5])\n",
    "\n",
    "# Predict metrics after 4 weeks\n",
    "weeks = 4\n",
    "final_state = np.array([predict(tm, creator, weeks) for creator in creators])\n",
    "print(\"Predicted metrics after 4 weeks:\\n\", final_state[:5])  # Print first 5 rows\n",
    "\n",
    "# Find the creator with the highest technical depth\n",
    "highest_tech = np.argmax(final_state[:, 0])\n",
    "print(\"Creator with highest technical depth:\", highest_tech)\n",
    "\n",
    "# Find the creator with the highest entertainment value\n",
    "highest_entertainment = np.argmax(final_state[:, 1])\n",
    "print(\"Creator with highest entertainment value:\", highest_entertainment)\n",
    "\n",
    "# Identify creators who switched focus\n",
    "print(\"Creators who switched focus:\")\n",
    "for i, (old_metrics, new_metrics) in enumerate(zip(creators, final_state)):\n",
    "    if np.argmin(old_metrics) != np.argmin(new_metrics):  # Check for focus switch\n",
    "        print(f\"Creator {i}: Old: {old_metrics}, New: {new_metrics}\")"
   ]
  }
 ],
 "metadata": {
  "kernelspec": {
   "display_name": "Python 3",
   "language": "python",
   "name": "python3"
  },
  "language_info": {
   "codemirror_mode": {
    "name": "ipython",
    "version": 3
   },
   "file_extension": ".py",
   "mimetype": "text/x-python",
   "name": "python",
   "nbconvert_exporter": "python",
   "pygments_lexer": "ipython3",
   "version": "3.12.6"
  }
 },
 "nbformat": 4,
 "nbformat_minor": 2
}
