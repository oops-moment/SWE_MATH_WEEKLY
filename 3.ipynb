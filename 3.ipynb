{
 "cells": [
  {
   "cell_type": "code",
   "execution_count": 1,
   "metadata": {},
   "outputs": [],
   "source": [
    "import numpy as np\n"
   ]
  },
  {
   "cell_type": "code",
   "execution_count": 3,
   "metadata": {},
   "outputs": [],
   "source": [
    "def solve_compression_scores(n, m, inputs):\n",
    "    # Extract coefficients matrix (A) and constants vector (b)\n",
    "    A = []  # Matrix of processing power units\n",
    "    b = []  # Vector of compression scores\n",
    "    \n",
    "    for row in inputs:\n",
    "        A.append(row[:-1])  # All elements except last\n",
    "        b.append(row[-1])   # Last element\n",
    "        \n",
    "    # Convert to numpy arrays for efficient computation\n",
    "    A = np.array(A)\n",
    "    b = np.array(b)\n",
    "    \n",
    "    try:\n",
    "        # Solve the system of linear equations\n",
    "        # numpy.linalg.solve solves the equation Ax = b\n",
    "        x = np.linalg.solve(A, b)\n",
    "        \n",
    "        # Check if solution is valid (all equations are satisfied)\n",
    "        if not np.allclose(np.dot(A, x), b):\n",
    "            return \"observation error\"\n",
    "            \n",
    "        return x\n",
    "        \n",
    "    except np.linalg.LinAlgError:\n",
    "        # This handles cases where the system has no solution\n",
    "        # or has infinite solutions\n",
    "        return \"observation error\""
   ]
  },
  {
   "cell_type": "code",
   "execution_count": 4,
   "metadata": {},
   "outputs": [
    {
     "name": "stdout",
     "output_type": "stream",
     "text": [
      "[ 5.58823529 18.17647059 21.88235294]\n"
     ]
    }
   ],
   "source": [
    "n, m = 3, 3\n",
    "inputs = [\n",
    "    [2, 1, 3, 95],\n",
    "    [1, 3, 1, 82],\n",
    "    [3, 2, 1, 75]\n",
    "]\n",
    "\n",
    "result = solve_compression_scores(n, m, inputs)\n",
    "print(result)"
   ]
  }
 ],
 "metadata": {
  "kernelspec": {
   "display_name": "Python 3",
   "language": "python",
   "name": "python3"
  },
  "language_info": {
   "codemirror_mode": {
    "name": "ipython",
    "version": 3
   },
   "file_extension": ".py",
   "mimetype": "text/x-python",
   "name": "python",
   "nbconvert_exporter": "python",
   "pygments_lexer": "ipython3",
   "version": "3.12.6"
  }
 },
 "nbformat": 4,
 "nbformat_minor": 2
}
